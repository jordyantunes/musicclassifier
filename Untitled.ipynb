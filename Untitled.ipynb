{
 "cells": [
  {
   "cell_type": "code",
   "execution_count": 9,
   "metadata": {
    "collapsed": true
   },
   "outputs": [],
   "source": [
    "from scrapper import get_data"
   ]
  },
  {
   "cell_type": "code",
   "execution_count": 10,
   "metadata": {
    "collapsed": true
   },
   "outputs": [],
   "source": [
    "import nltk    \n",
    "from nltk import tokenize\n",
    "from nltk.corpus import stopwords\n",
    "from nltk.stem.snowball import SnowballStemmer\n",
    "\n",
    "stemmer = SnowballStemmer(\"portuguese\")"
   ]
  },
  {
   "cell_type": "code",
   "execution_count": 11,
   "metadata": {
    "scrolled": true
   },
   "outputs": [
    {
     "name": "stdout",
     "output_type": "stream",
     "text": [
      "https://www.vagalume.com.br/suricato\n",
      "https://www.vagalume.com.br/sabonetes\n",
      "https://www.vagalume.com.br/capital-inicial\n",
      "https://www.vagalume.com.br/skank\n",
      "https://www.vagalume.com.br/super-combo\n",
      "https://www.vagalume.com.br/anitta\n",
      "https://www.vagalume.com.br/mc-livinho\n",
      "https://www.vagalume.com.br/ludmilla\n",
      "https://www.vagalume.com.br/mc-kevinho\n",
      "https://www.vagalume.com.br/mc-daleste\n",
      "https://www.vagalume.com.br/jorge-e-mateus\n",
      "https://www.vagalume.com.br/marilia-mendonca\n",
      "https://www.vagalume.com.br/henrique-e-juliano\n",
      "https://www.vagalume.com.br/matheus-e-kauan\n",
      "https://www.vagalume.com.br/ze-neto-e-cristiano\n"
     ]
    }
   ],
   "source": [
    "# loads the data\n",
    "lyrics = get_data()"
   ]
  },
  {
   "cell_type": "code",
   "execution_count": 15,
   "metadata": {},
   "outputs": [],
   "source": [
    "# defines a tokenizer to stem the words and parse words in tokens\n",
    "def tokenizer(lyric):\n",
    "    tokens = tokenize.word_tokenize(lyric, language='portuguese')\n",
    "    tokens = [stemmer.stem(token) for token in tokens if token not in stopwords.words('portuguese')]\n",
    "    \n",
    "    return tokens"
   ]
  },
  {
   "cell_type": "code",
   "execution_count": 32,
   "metadata": {},
   "outputs": [
    {
     "data": {
      "text/plain": [
       "61"
      ]
     },
     "execution_count": 32,
     "metadata": {},
     "output_type": "execute_result"
    }
   ],
   "source": [
    "from sklearn.feature_extraction.text import TfidfVectorizer\n",
    "n_features=20\n",
    "\n",
    "tfidf_vectorizer = TfidfVectorizer(max_df=0.95, min_df=.1,\n",
    "                                   #max_features=n_features,\n",
    "                                   tokenizer=tokenizer)\n",
    "\n",
    "# creates a matrix that evaluates the importance of a word in a lyric\n",
    "tfidf = tfidf_vectorizer.fit_transform([lyric for lyric, label in lyrics])"
   ]
  },
  {
   "cell_type": "code",
   "execution_count": 36,
   "metadata": {},
   "outputs": [
    {
     "data": {
      "text/plain": [
       "61"
      ]
     },
     "execution_count": 36,
     "metadata": {},
     "output_type": "execute_result"
    }
   ],
   "source": [
    "len(tfidf.toarray())"
   ]
  },
  {
   "cell_type": "code",
   "execution_count": 29,
   "metadata": {},
   "outputs": [
    {
     "data": {
      "text/plain": [
       "[\"''\",\n",
       " '(',\n",
       " ')',\n",
       " ',',\n",
       " '.',\n",
       " '...',\n",
       " '2x',\n",
       " '``',\n",
       " 'acab',\n",
       " 'adiant',\n",
       " 'agor',\n",
       " 'alguém',\n",
       " 'amig',\n",
       " 'amor',\n",
       " 'aqu',\n",
       " 'assim',\n",
       " 'avis',\n",
       " 'bat',\n",
       " 'beij',\n",
       " 'bem',\n",
       " 'cad',\n",
       " 'car',\n",
       " 'cas',\n",
       " 'cham',\n",
       " 'cheg',\n",
       " 'chor',\n",
       " 'cois',\n",
       " 'comig',\n",
       " 'conhec',\n",
       " 'cont',\n",
       " 'coraçã',\n",
       " 'corp',\n",
       " 'danc',\n",
       " 'deix',\n",
       " 'dess',\n",
       " 'dia',\n",
       " 'diz',\n",
       " 'dá',\n",
       " 'entã',\n",
       " 'esper',\n",
       " 'esquec',\n",
       " 'estar',\n",
       " 'fac',\n",
       " 'fal',\n",
       " 'faz',\n",
       " 'fic',\n",
       " 'fim',\n",
       " 'frent',\n",
       " 'fri',\n",
       " 'gent',\n",
       " 'gost',\n",
       " 'hoj',\n",
       " 'hor',\n",
       " 'jeit',\n",
       " 'lad',\n",
       " 'lembr',\n",
       " 'lev',\n",
       " 'lig',\n",
       " 'lug',\n",
       " 'lá',\n",
       " 'mal',\n",
       " 'mand',\n",
       " 'mar',\n",
       " 'med',\n",
       " 'melhor',\n",
       " 'ment',\n",
       " 'mim',\n",
       " 'mulh',\n",
       " 'mund',\n",
       " 'mã',\n",
       " 'nad',\n",
       " 'ness',\n",
       " 'ninguém',\n",
       " 'noit',\n",
       " 'nov',\n",
       " 'nunc',\n",
       " 'olhar',\n",
       " 'olhos',\n",
       " 'onde',\n",
       " 'ouv',\n",
       " 'par',\n",
       " 'pass',\n",
       " 'peg',\n",
       " 'pens',\n",
       " 'perd',\n",
       " 'pod',\n",
       " 'porqu',\n",
       " 'pouc',\n",
       " 'pra',\n",
       " 'precis',\n",
       " 'qualqu',\n",
       " 'quant',\n",
       " 'quer',\n",
       " 'quis',\n",
       " 'sab',\n",
       " 'sei',\n",
       " 'sempr',\n",
       " 'sent',\n",
       " 'ser',\n",
       " 'sint',\n",
       " 'sobr',\n",
       " 'sol',\n",
       " 'sonh',\n",
       " 'tant',\n",
       " 'temp',\n",
       " 'ter',\n",
       " 'tod',\n",
       " 'tud',\n",
       " 'tá',\n",
       " 'tã',\n",
       " 'tô',\n",
       " 'vai',\n",
       " 'vem',\n",
       " 'ver',\n",
       " 'vez',\n",
       " 'vid',\n",
       " 'viv',\n",
       " 'volt',\n",
       " 'vou',\n",
       " 'é']"
      ]
     },
     "execution_count": 29,
     "metadata": {},
     "output_type": "execute_result"
    }
   ],
   "source": [
    "# dont forget, this is how to get the word names\n",
    "tfidf_feature_names = tfidf_vectorizer.get_feature_names()\n",
    "tfidf_feature_names"
   ]
  },
  {
   "cell_type": "code",
   "execution_count": null,
   "metadata": {
    "collapsed": true
   },
   "outputs": [],
   "source": []
  }
 ],
 "metadata": {
  "kernelspec": {
   "display_name": "Python 3",
   "language": "python",
   "name": "python3"
  },
  "language_info": {
   "codemirror_mode": {
    "name": "ipython",
    "version": 3
   },
   "file_extension": ".py",
   "mimetype": "text/x-python",
   "name": "python",
   "nbconvert_exporter": "python",
   "pygments_lexer": "ipython3",
   "version": "3.6.1"
  }
 },
 "nbformat": 4,
 "nbformat_minor": 2
}
