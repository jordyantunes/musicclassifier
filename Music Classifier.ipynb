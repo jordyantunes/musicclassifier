{
 "cells": [
  {
   "cell_type": "code",
   "execution_count": 3,
   "metadata": {},
   "outputs": [],
   "source": [
    "from scrapper import get_data"
   ]
  },
  {
   "cell_type": "code",
   "execution_count": 17,
   "metadata": {},
   "outputs": [],
   "source": [
    "import nltk\n",
    "# nltk.download('punkt')\n",
    "# nltk.download('stopwords')\n",
    "from nltk import tokenize\n",
    "from nltk.corpus import stopwords\n",
    "from nltk.stem.snowball import SnowballStemmer\n",
    "from sklearn.neural_network import MLPClassifier\n",
    "\n",
    "stemmer = SnowballStemmer(\"portuguese\")"
   ]
  },
  {
   "cell_type": "code",
   "execution_count": 7,
   "metadata": {
    "scrolled": true
   },
   "outputs": [
    {
     "name": "stdout",
     "output_type": "stream",
     "text": [
      "https://www.vagalume.com.br/suricato\n",
      "https://www.vagalume.com.br/sabonetes\n",
      "https://www.vagalume.com.br/capital-inicial\n",
      "https://www.vagalume.com.br/skank\n",
      "https://www.vagalume.com.br/super-combo\n",
      "https://www.vagalume.com.br/anitta\n",
      "https://www.vagalume.com.br/mc-livinho\n",
      "https://www.vagalume.com.br/ludmilla\n",
      "https://www.vagalume.com.br/mc-kevinho\n",
      "https://www.vagalume.com.br/mc-daleste\n",
      "https://www.vagalume.com.br/jorge-e-mateus\n",
      "https://www.vagalume.com.br/marilia-mendonca\n",
      "https://www.vagalume.com.br/henrique-e-juliano\n",
      "https://www.vagalume.com.br/matheus-e-kauan\n",
      "https://www.vagalume.com.br/ze-neto-e-cristiano\n"
     ]
    }
   ],
   "source": [
    "# loads the data\n",
    "lyrics = get_data()"
   ]
  },
  {
   "cell_type": "code",
   "execution_count": 8,
   "metadata": {},
   "outputs": [],
   "source": [
    "# defines a tokenizer to stem the words and parse words in tokens\n",
    "def tokenizer(lyric):\n",
    "    tokens = tokenize.word_tokenize(lyric, language='portuguese')\n",
    "    tokens = [stemmer.stem(token) for token in tokens if token not in stopwords.words('portuguese')]\n",
    "    \n",
    "    return tokens"
   ]
  },
  {
   "cell_type": "code",
   "execution_count": 13,
   "metadata": {},
   "outputs": [],
   "source": [
    "from sklearn.feature_extraction.text import TfidfVectorizer\n",
    "n_features=20\n",
    "\n",
    "tfidf_vectorizer = TfidfVectorizer(max_df=0.95, min_df=.1,\n",
    "                                   #max_features=n_features,\n",
    "                                   tokenizer=tokenizer)\n",
    "\n",
    "# creates a matrix that evaluates the importance of a word in a lyric\n",
    "tfidf = tfidf_vectorizer.fit_transform([lyric for lyric, label in lyrics])"
   ]
  },
  {
   "cell_type": "code",
   "execution_count": 14,
   "metadata": {},
   "outputs": [
    {
     "data": {
      "text/plain": [
       "60"
      ]
     },
     "execution_count": 14,
     "metadata": {},
     "output_type": "execute_result"
    }
   ],
   "source": [
    "len(tfidf.toarray())"
   ]
  },
  {
   "cell_type": "code",
   "execution_count": 15,
   "metadata": {},
   "outputs": [
    {
     "data": {
      "text/plain": [
       "[\"''\",\n",
       " '(',\n",
       " ')',\n",
       " ',',\n",
       " '.',\n",
       " '...',\n",
       " '2x',\n",
       " '``',\n",
       " 'acab',\n",
       " 'acontec',\n",
       " 'acredit',\n",
       " 'adiant',\n",
       " 'agor',\n",
       " 'aind',\n",
       " 'alguém',\n",
       " 'amanhã',\n",
       " 'amig',\n",
       " 'amor',\n",
       " 'aqu',\n",
       " 'assim',\n",
       " 'avis',\n",
       " 'bat',\n",
       " 'beij',\n",
       " 'bem',\n",
       " 'cabel',\n",
       " 'cad',\n",
       " 'car',\n",
       " 'cas',\n",
       " 'caus',\n",
       " 'cham',\n",
       " 'cheg',\n",
       " 'chor',\n",
       " 'cois',\n",
       " 'comig',\n",
       " 'conhec',\n",
       " 'cont',\n",
       " 'coraçã',\n",
       " 'corp',\n",
       " 'danc',\n",
       " 'deix',\n",
       " 'dess',\n",
       " 'dia',\n",
       " 'diz',\n",
       " 'dá',\n",
       " 'entã',\n",
       " 'esper',\n",
       " 'esquec',\n",
       " 'estar',\n",
       " 'fac',\n",
       " 'fal',\n",
       " 'faz',\n",
       " 'fic',\n",
       " 'fim',\n",
       " 'frent',\n",
       " 'fri',\n",
       " 'gent',\n",
       " 'gost',\n",
       " 'gostos',\n",
       " 'hoj',\n",
       " 'hor',\n",
       " 'import',\n",
       " 'jeit',\n",
       " 'lad',\n",
       " 'lembr',\n",
       " 'lev',\n",
       " 'lig',\n",
       " 'lug',\n",
       " 'lá',\n",
       " 'mal',\n",
       " 'mand',\n",
       " 'mar',\n",
       " 'med',\n",
       " 'melhor',\n",
       " 'menin',\n",
       " 'ment',\n",
       " 'mes',\n",
       " 'mim',\n",
       " 'mostr',\n",
       " 'mulh',\n",
       " 'mund',\n",
       " 'mã',\n",
       " 'nad',\n",
       " 'namor',\n",
       " 'ness',\n",
       " 'ninguém',\n",
       " 'noit',\n",
       " 'nom',\n",
       " 'nov',\n",
       " 'nunc',\n",
       " 'olhar',\n",
       " 'olhos',\n",
       " 'onde',\n",
       " 'ouv',\n",
       " 'par',\n",
       " 'part',\n",
       " 'pass',\n",
       " 'pec',\n",
       " 'peg',\n",
       " 'pens',\n",
       " 'perd',\n",
       " 'pod',\n",
       " 'porqu',\n",
       " 'port',\n",
       " 'poss',\n",
       " 'pouc',\n",
       " 'pra',\n",
       " 'precis',\n",
       " 'qualqu',\n",
       " 'quant',\n",
       " 'quer',\n",
       " 'quis',\n",
       " 'rua',\n",
       " 'sab',\n",
       " 'sei',\n",
       " 'sempr',\n",
       " 'sent',\n",
       " 'ser',\n",
       " 'sint',\n",
       " 'sobr',\n",
       " 'sol',\n",
       " 'sonh',\n",
       " 'tant',\n",
       " 'temp',\n",
       " 'tent',\n",
       " 'ter',\n",
       " 'tir',\n",
       " 'tod',\n",
       " 'tud',\n",
       " 'tá',\n",
       " 'tã',\n",
       " 'tô',\n",
       " 'vai',\n",
       " 'vem',\n",
       " 'ver',\n",
       " 'vez',\n",
       " 'vid',\n",
       " 'viv',\n",
       " 'volt',\n",
       " 'vou',\n",
       " 'é']"
      ]
     },
     "execution_count": 15,
     "metadata": {},
     "output_type": "execute_result"
    }
   ],
   "source": [
    "# dont forget, this is how to get the word names\n",
    "tfidf_feature_names = tfidf_vectorizer.get_feature_names()\n",
    "tfidf_feature_names"
   ]
  },
  {
   "cell_type": "code",
   "execution_count": 21,
   "metadata": {},
   "outputs": [],
   "source": [
    "input_mlp = tfidf.toarray()\n",
    "expected_output = [ l[1] for l in lyrics]"
   ]
  },
  {
   "cell_type": "code",
   "execution_count": 24,
   "metadata": {},
   "outputs": [],
   "source": [
    "from sklearn.model_selection import train_test_split\n",
    "X_train, X_test, y_train, y_test = train_test_split(input_mlp, expected_output, test_size=0.33)"
   ]
  },
  {
   "cell_type": "code",
   "execution_count": 25,
   "metadata": {},
   "outputs": [
    {
     "data": {
      "text/plain": [
       "MLPClassifier(activation='relu', alpha=1e-05, batch_size='auto', beta_1=0.9,\n",
       "       beta_2=0.999, early_stopping=False, epsilon=1e-08,\n",
       "       hidden_layer_sizes=(5, 2), learning_rate='constant',\n",
       "       learning_rate_init=0.001, max_iter=200, momentum=0.9,\n",
       "       nesterovs_momentum=True, power_t=0.5, random_state=1, shuffle=True,\n",
       "       solver='lbfgs', tol=0.0001, validation_fraction=0.1, verbose=False,\n",
       "       warm_start=False)"
      ]
     },
     "execution_count": 25,
     "metadata": {},
     "output_type": "execute_result"
    }
   ],
   "source": [
    "clf = MLPClassifier(solver='lbfgs', alpha=1e-5, hidden_layer_sizes=(5, 2), random_state=1)\n",
    "clf.fit(X_train, y_train)"
   ]
  },
  {
   "cell_type": "code",
   "execution_count": 30,
   "metadata": {},
   "outputs": [],
   "source": [
    "y_predicted = clf.predict(X_test)"
   ]
  },
  {
   "cell_type": "code",
   "execution_count": 33,
   "metadata": {},
   "outputs": [],
   "source": [
    "from sklearn.metrics import confusion_matrix\n",
    "conf_matrix = confusion_matrix(y_test, y_predicted, labels=[0,1,2])"
   ]
  },
  {
   "cell_type": "code",
   "execution_count": 39,
   "metadata": {},
   "outputs": [
    {
     "data": {
      "text/plain": [
       "Text(0.5,-15.9238,'Classe Prevista')"
      ]
     },
     "execution_count": 39,
     "metadata": {},
     "output_type": "execute_result"
    },
    {
     "data": {
      "image/png": "[encoded data removed]",
      "text/plain": [
       "<matplotlib.figure.Figure at 0x1c87ebb5cf8>"
      ]
     },
     "metadata": {},
     "output_type": "display_data"
    }
   ],
   "source": [
    "import matplotlib.pyplot as plt\n",
    "import numpy as np\n",
    "import itertools\n",
    "\n",
    "classes = [\"Rock\", \"Funk\", \"Sertanejo\"]\n",
    "plt.imshow(conf_matrix, interpolation='nearest',cmap=plt.cm.Blues)\n",
    "plt.title(\"Matriz de Confusão\")\n",
    "plt.colorbar()\n",
    "tick_marks = np.arange(len(classes))\n",
    "plt.xticks(tick_marks, classes, rotation=45)\n",
    "plt.yticks(tick_marks, classes)\n",
    "\n",
    "cm = conf_matrix\n",
    "fmt = 'd'\n",
    "thresh = cm.max() / 2.\n",
    "for i, j in itertools.product(range(cm.shape[0]), range(cm.shape[1])):\n",
    "    plt.text(j, i, format(cm[i, j], fmt),\n",
    "             horizontalalignment=\"center\",\n",
    "             color=\"white\" if cm[i, j] > thresh else \"black\")\n",
    "\n",
    "plt.tight_layout()\n",
    "plt.ylabel('Classe Real')\n",
    "plt.xlabel('Classe Prevista')"
   ]
  }
 ],
 "metadata": {
  "kernelspec": {
   "display_name": "Python 3",
   "language": "python",
   "name": "python3"
  },
  "language_info": {
   "codemirror_mode": {
    "name": "ipython",
    "version": 3
   },
   "file_extension": ".py",
   "mimetype": "text/x-python",
   "name": "python",
   "nbconvert_exporter": "python",
   "pygments_lexer": "ipython3",
   "version": "3.6.4"
  }
 },
 "nbformat": 4,
 "nbformat_minor": 2
}
